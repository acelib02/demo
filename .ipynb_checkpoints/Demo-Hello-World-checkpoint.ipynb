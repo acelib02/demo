{
 "cells": [
  {
   "cell_type": "markdown",
   "metadata": {},
   "source": [
    "# AIStation功能演示"
   ]
  },
  {
   "cell_type": "markdown",
   "metadata": {},
   "source": [
    "## 本示例代码功能\n",
    "使用TensorFlow框架，应用ResNet网络结构对CIFAR-10图像数据集进行分类训练及验证。 \\\n",
    "使用镜像：tensorflow/tensorflow:1.14-cuda10-py36。\n",
    "\n",
    "# *使用“一键提交”功能提交训练任务*\n",
    "在本文件夹中的 submit_train.sh 脚本中包含简单的代码运行指令。\n",
    "- 在开发界面右上角/训练管理右上角，选择一键提交/创建，在命令模式旁的“文件夹”图标处选择文件，选取该脚本进行提交，即可创建训练任务。\n",
    "    - 记得挂载数据集文件夹下的cifar10数据集。"
   ]
  },
  {
   "cell_type": "markdown",
   "metadata": {},
   "source": [
    "# *在开发环境中运行notebook*\n",
    "依次运行下方三个代码块即可。\n",
    "\n",
    "## 代码初始化\n",
    "- 引入模块：利用warnings模块过滤warning信息，减少notebook输出内容\n",
    "- 构建网络模型：使用cifar10_train.Train类，调用hyper_parameters中预置的超参构建模型和损失函数、优化器。\n",
    "    - 具体过程参考resnet.py、cifar10_train.py文件中的对应部分。"
   ]
  },
  {
   "cell_type": "code",
   "execution_count": null,
   "metadata": {},
   "outputs": [],
   "source": [
    "import warnings\n",
    "warnings.filterwarnings(\"ignore\")\n",
    "from tqdm import tqdm_notebook as tqdm\n",
    "import tensorflow.compat.v1 as tf\n",
    "import numpy as np\n",
    "\n",
    "from cifar10_train import *\n",
    "from cifar10_input import read_validation_data\n",
    "from evaluation import *\n",
    "\n",
    "train = Train()"
   ]
  },
  {
   "cell_type": "markdown",
   "metadata": {},
   "source": [
    "## 开始训练\n",
    "训练过程耗时约15分钟(10000 iteration)，期间会计算验证集分类准确率。\\\n",
    "训练结束后，模型会存储于/ckpt文件夹中，共后续推理调用。\n",
    "- 可视化监控\n",
    "    - 开发环境右上**可视化**选项，选择TensorBoard，选择ckpt文件夹，tensorboard即进入初始化过程。 "
   ]
  },
  {
   "cell_type": "code",
   "execution_count": null,
   "metadata": {},
   "outputs": [],
   "source": [
    "#tf.reset_default_graph()\n",
    "train.train()\n",
    "print('----------------------------')\n",
    "print('Training finished.')"
   ]
  },
  {
   "cell_type": "markdown",
   "metadata": {},
   "source": [
    "## 进行验证\n",
    "读取训练过程生成的模型，并对验证集进行验证。\\\n",
    "利用网络推理输出计算验证集准确率；\\\n",
    "利用matplotlib进行可视化输出，具体实现见evaluation.py文件。"
   ]
  },
  {
   "cell_type": "code",
   "execution_count": null,
   "metadata": {},
   "outputs": [],
   "source": [
    "tf.reset_default_graph()\n",
    "print('Begin evaluation.')\n",
    "print('----------------------------')\n",
    "\n",
    "# run evaluation on the evaluation_dataset:\n",
    "# vali_data, vali_labels = read_validation_data(visualization=True)\n",
    "# or run evaluation on images in /vali_data dir:\n",
    "vali_data, vali_labels = get_image()\n",
    "\n",
    "results = train.test(vali_data)\n",
    "eval_acc = compute_acc(results, vali_labels)\n",
    "\n",
    "print('----------------------------')\n",
    "print('Evaluation finished, average accuracy is {:.2%}.'.format(eval_acc))\n",
    "\n",
    "render_eval(vali_data[:10],vali_labels[:10],results[:10])"
   ]
  },
  {
   "cell_type": "markdown",
   "metadata": {},
   "source": [
    "## CIFAR-10数据位置\n",
    "本代码使用的数据挂载自平台数据集。\n",
    "- 在开发环境中进行数据挂载：在创建开发环境时，在数据集页面选择cifar10文件夹。\n",
    "    - 这意味着如果你在创建这个运行环境时并没有挂载数据集，你还要再做一次。\n",
    "- 在训练提交时挂载数据集：一键提交界面的数据集中挂载cifar10文件夹。\n",
    "\n",
    "## 文件结构\n",
    "demo_train_cifar10\\\n",
    "|——cifar10_input.py         管理数据读取和预处理过程\\\n",
    "|——cifar10_train.py         管理训练及推理逻辑\\\n",
    "|——hyper_parameters.py      管理训练超参\\\n",
    "|——resnet.py                构建ResNet网络模型，共训练推理调用\\\n",
    "|——evaluation.py            验证可视化模块"
   ]
  },
  {
   "cell_type": "code",
   "execution_count": null,
   "metadata": {},
   "outputs": [],
   "source": []
  }
 ],
 "metadata": {
  "kernelspec": {
   "display_name": "Python 3",
   "language": "python",
   "name": "python3"
  },
  "language_info": {
   "codemirror_mode": {
    "name": "ipython",
    "version": 3
   },
   "file_extension": ".py",
   "mimetype": "text/x-python",
   "name": "python",
   "nbconvert_exporter": "python",
   "pygments_lexer": "ipython3",
   "version": "3.6.8"
  }
 },
 "nbformat": 4,
 "nbformat_minor": 4
}
